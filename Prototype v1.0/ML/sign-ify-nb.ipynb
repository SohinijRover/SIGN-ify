{
 "cells": [
  {
   "cell_type": "markdown",
   "id": "d5d83f5d",
   "metadata": {},
   "source": [
    "##Importing necessary libraries to read and visualize data"
   ]
  },
  {
   "attachments": {},
   "cell_type": "markdown",
   "id": "d7dd760f",
   "metadata": {},
   "source": [
    "Import neccessary libraries to read & process data files"
   ]
  },
  {
   "cell_type": "code",
   "execution_count": 8,
   "id": "ff2b96e9",
   "metadata": {},
   "outputs": [],
   "source": [
    "import pandas as pd\n",
    "import numpy as np\n",
    "import seaborn as sns"
   ]
  },
  {
   "cell_type": "code",
   "execution_count": 2,
   "id": "67b16e77",
   "metadata": {},
   "outputs": [],
   "source": [
    "dff = pd.read_csv(\"FvkU.csv\")"
   ]
  },
  {
   "cell_type": "code",
   "execution_count": 3,
   "id": "d7828995",
   "metadata": {},
   "outputs": [],
   "source": [
    "dfi = pd.read_csv(\"Initial.csv\")"
   ]
  },
  {
   "cell_type": "code",
   "execution_count": 4,
   "id": "946d6d06",
   "metadata": {},
   "outputs": [],
   "source": [
    "dfn = pd.read_csv(\"Nice.csv\")"
   ]
  },
  {
   "cell_type": "code",
   "execution_count": 5,
   "id": "ba679fda",
   "metadata": {},
   "outputs": [],
   "source": [
    "dfo = pd.read_csv(\"OK.csv\")"
   ]
  },
  {
   "cell_type": "code",
   "execution_count": 6,
   "id": "0f6033e6",
   "metadata": {},
   "outputs": [
    {
     "data": {
      "text/html": [
       "<div>\n",
       "<style scoped>\n",
       "    .dataframe tbody tr th:only-of-type {\n",
       "        vertical-align: middle;\n",
       "    }\n",
       "\n",
       "    .dataframe tbody tr th {\n",
       "        vertical-align: top;\n",
       "    }\n",
       "\n",
       "    .dataframe thead th {\n",
       "        text-align: right;\n",
       "    }\n",
       "</style>\n",
       "<table border=\"1\" class=\"dataframe\">\n",
       "  <thead>\n",
       "    <tr style=\"text-align: right;\">\n",
       "      <th></th>\n",
       "      <th>thumb1</th>\n",
       "      <th>index1</th>\n",
       "      <th>middle1</th>\n",
       "      <th>pinky1</th>\n",
       "      <th>accelX1</th>\n",
       "      <th>accelY1</th>\n",
       "      <th>accelZ1</th>\n",
       "      <th>gForceX1</th>\n",
       "      <th>gForceY1</th>\n",
       "      <th>gForceZ1</th>\n",
       "      <th>gyroX1</th>\n",
       "      <th>gyroY1</th>\n",
       "      <th>gyroZ1</th>\n",
       "    </tr>\n",
       "  </thead>\n",
       "  <tbody>\n",
       "    <tr>\n",
       "      <th>count</th>\n",
       "      <td>518.000000</td>\n",
       "      <td>518.000000</td>\n",
       "      <td>518.000000</td>\n",
       "      <td>518.000000</td>\n",
       "      <td>518.000000</td>\n",
       "      <td>518.000000</td>\n",
       "      <td>518.000000</td>\n",
       "      <td>518.000000</td>\n",
       "      <td>518.000000</td>\n",
       "      <td>518.000000</td>\n",
       "      <td>518.000000</td>\n",
       "      <td>518.000000</td>\n",
       "      <td>518.000000</td>\n",
       "    </tr>\n",
       "    <tr>\n",
       "      <th>mean</th>\n",
       "      <td>2475.631274</td>\n",
       "      <td>1869.042471</td>\n",
       "      <td>2132.758687</td>\n",
       "      <td>2469.666023</td>\n",
       "      <td>9.842915</td>\n",
       "      <td>0.403166</td>\n",
       "      <td>1.212838</td>\n",
       "      <td>1.212838</td>\n",
       "      <td>0.403166</td>\n",
       "      <td>9.842915</td>\n",
       "      <td>-0.025598</td>\n",
       "      <td>-0.044228</td>\n",
       "      <td>-0.014903</td>\n",
       "    </tr>\n",
       "    <tr>\n",
       "      <th>std</th>\n",
       "      <td>17.537722</td>\n",
       "      <td>795.473392</td>\n",
       "      <td>743.413764</td>\n",
       "      <td>24.905128</td>\n",
       "      <td>1.724839</td>\n",
       "      <td>0.770314</td>\n",
       "      <td>1.389931</td>\n",
       "      <td>1.389931</td>\n",
       "      <td>0.770314</td>\n",
       "      <td>1.724839</td>\n",
       "      <td>0.295295</td>\n",
       "      <td>0.072486</td>\n",
       "      <td>0.083167</td>\n",
       "    </tr>\n",
       "    <tr>\n",
       "      <th>min</th>\n",
       "      <td>2413.000000</td>\n",
       "      <td>0.000000</td>\n",
       "      <td>0.000000</td>\n",
       "      <td>2359.000000</td>\n",
       "      <td>-2.290000</td>\n",
       "      <td>-2.480000</td>\n",
       "      <td>-0.520000</td>\n",
       "      <td>-0.520000</td>\n",
       "      <td>-2.480000</td>\n",
       "      <td>-2.290000</td>\n",
       "      <td>-2.420000</td>\n",
       "      <td>-0.890000</td>\n",
       "      <td>-0.480000</td>\n",
       "    </tr>\n",
       "    <tr>\n",
       "      <th>25%</th>\n",
       "      <td>2465.000000</td>\n",
       "      <td>2128.000000</td>\n",
       "      <td>2378.000000</td>\n",
       "      <td>2454.000000</td>\n",
       "      <td>10.070000</td>\n",
       "      <td>-0.030000</td>\n",
       "      <td>0.622500</td>\n",
       "      <td>0.622500</td>\n",
       "      <td>-0.030000</td>\n",
       "      <td>10.070000</td>\n",
       "      <td>-0.050000</td>\n",
       "      <td>-0.050000</td>\n",
       "      <td>-0.030000</td>\n",
       "    </tr>\n",
       "    <tr>\n",
       "      <th>50%</th>\n",
       "      <td>2477.000000</td>\n",
       "      <td>2231.000000</td>\n",
       "      <td>2387.000000</td>\n",
       "      <td>2470.000000</td>\n",
       "      <td>10.120000</td>\n",
       "      <td>0.315000</td>\n",
       "      <td>0.965000</td>\n",
       "      <td>0.965000</td>\n",
       "      <td>0.315000</td>\n",
       "      <td>10.120000</td>\n",
       "      <td>-0.040000</td>\n",
       "      <td>-0.040000</td>\n",
       "      <td>-0.020000</td>\n",
       "    </tr>\n",
       "    <tr>\n",
       "      <th>75%</th>\n",
       "      <td>2484.000000</td>\n",
       "      <td>2247.000000</td>\n",
       "      <td>2400.000000</td>\n",
       "      <td>2485.000000</td>\n",
       "      <td>10.160000</td>\n",
       "      <td>0.637500</td>\n",
       "      <td>1.410000</td>\n",
       "      <td>1.410000</td>\n",
       "      <td>0.637500</td>\n",
       "      <td>10.160000</td>\n",
       "      <td>-0.020000</td>\n",
       "      <td>-0.030000</td>\n",
       "      <td>-0.010000</td>\n",
       "    </tr>\n",
       "    <tr>\n",
       "      <th>max</th>\n",
       "      <td>2542.000000</td>\n",
       "      <td>2293.000000</td>\n",
       "      <td>2433.000000</td>\n",
       "      <td>2585.000000</td>\n",
       "      <td>11.620000</td>\n",
       "      <td>5.050000</td>\n",
       "      <td>9.760000</td>\n",
       "      <td>9.760000</td>\n",
       "      <td>5.050000</td>\n",
       "      <td>11.620000</td>\n",
       "      <td>1.860000</td>\n",
       "      <td>0.420000</td>\n",
       "      <td>1.290000</td>\n",
       "    </tr>\n",
       "  </tbody>\n",
       "</table>\n",
       "</div>"
      ],
      "text/plain": [
       "            thumb1       index1      middle1       pinky1     accelX1  \\\n",
       "count   518.000000   518.000000   518.000000   518.000000  518.000000   \n",
       "mean   2475.631274  1869.042471  2132.758687  2469.666023    9.842915   \n",
       "std      17.537722   795.473392   743.413764    24.905128    1.724839   \n",
       "min    2413.000000     0.000000     0.000000  2359.000000   -2.290000   \n",
       "25%    2465.000000  2128.000000  2378.000000  2454.000000   10.070000   \n",
       "50%    2477.000000  2231.000000  2387.000000  2470.000000   10.120000   \n",
       "75%    2484.000000  2247.000000  2400.000000  2485.000000   10.160000   \n",
       "max    2542.000000  2293.000000  2433.000000  2585.000000   11.620000   \n",
       "\n",
       "          accelY1     accelZ1    gForceX1    gForceY1    gForceZ1      gyroX1  \\\n",
       "count  518.000000  518.000000  518.000000  518.000000  518.000000  518.000000   \n",
       "mean     0.403166    1.212838    1.212838    0.403166    9.842915   -0.025598   \n",
       "std      0.770314    1.389931    1.389931    0.770314    1.724839    0.295295   \n",
       "min     -2.480000   -0.520000   -0.520000   -2.480000   -2.290000   -2.420000   \n",
       "25%     -0.030000    0.622500    0.622500   -0.030000   10.070000   -0.050000   \n",
       "50%      0.315000    0.965000    0.965000    0.315000   10.120000   -0.040000   \n",
       "75%      0.637500    1.410000    1.410000    0.637500   10.160000   -0.020000   \n",
       "max      5.050000    9.760000    9.760000    5.050000   11.620000    1.860000   \n",
       "\n",
       "           gyroY1      gyroZ1  \n",
       "count  518.000000  518.000000  \n",
       "mean    -0.044228   -0.014903  \n",
       "std      0.072486    0.083167  \n",
       "min     -0.890000   -0.480000  \n",
       "25%     -0.050000   -0.030000  \n",
       "50%     -0.040000   -0.020000  \n",
       "75%     -0.030000   -0.010000  \n",
       "max      0.420000    1.290000  "
      ]
     },
     "execution_count": 6,
     "metadata": {},
     "output_type": "execute_result"
    }
   ],
   "source": [
    "dff.describe()"
   ]
  },
  {
   "cell_type": "markdown",
   "id": "df2638c5",
   "metadata": {},
   "source": [
    "##Merging all dataframes in one"
   ]
  },
  {
   "cell_type": "code",
   "execution_count": 8,
   "id": "ee8b72d2",
   "metadata": {},
   "outputs": [],
   "source": [
    "frames = [dff, dfi, dfn, dfo]"
   ]
  },
  {
   "cell_type": "code",
   "execution_count": 9,
   "id": "51f4c244",
   "metadata": {},
   "outputs": [],
   "source": [
    "df_final = pd.concat(frames)"
   ]
  },
  {
   "cell_type": "code",
   "execution_count": 10,
   "id": "8f56496c",
   "metadata": {},
   "outputs": [
    {
     "data": {
      "text/html": [
       "<div>\n",
       "<style scoped>\n",
       "    .dataframe tbody tr th:only-of-type {\n",
       "        vertical-align: middle;\n",
       "    }\n",
       "\n",
       "    .dataframe tbody tr th {\n",
       "        vertical-align: top;\n",
       "    }\n",
       "\n",
       "    .dataframe thead th {\n",
       "        text-align: right;\n",
       "    }\n",
       "</style>\n",
       "<table border=\"1\" class=\"dataframe\">\n",
       "  <thead>\n",
       "    <tr style=\"text-align: right;\">\n",
       "      <th></th>\n",
       "      <th>thumb1</th>\n",
       "      <th>index1</th>\n",
       "      <th>middle1</th>\n",
       "      <th>pinky1</th>\n",
       "      <th>accelX1</th>\n",
       "      <th>accelY1</th>\n",
       "      <th>accelZ1</th>\n",
       "      <th>gForceX1</th>\n",
       "      <th>gForceY1</th>\n",
       "      <th>gForceZ1</th>\n",
       "      <th>gyroX1</th>\n",
       "      <th>gyroY1</th>\n",
       "      <th>gyroZ1</th>\n",
       "      <th>gesture</th>\n",
       "    </tr>\n",
       "  </thead>\n",
       "  <tbody>\n",
       "    <tr>\n",
       "      <th>0</th>\n",
       "      <td>2490</td>\n",
       "      <td>0</td>\n",
       "      <td>2381</td>\n",
       "      <td>2501</td>\n",
       "      <td>-2.29</td>\n",
       "      <td>4.41</td>\n",
       "      <td>7.74</td>\n",
       "      <td>7.74</td>\n",
       "      <td>4.41</td>\n",
       "      <td>-2.29</td>\n",
       "      <td>1.14</td>\n",
       "      <td>-0.45</td>\n",
       "      <td>-0.14</td>\n",
       "      <td>Fuck You!</td>\n",
       "    </tr>\n",
       "    <tr>\n",
       "      <th>1</th>\n",
       "      <td>2459</td>\n",
       "      <td>0</td>\n",
       "      <td>2366</td>\n",
       "      <td>2479</td>\n",
       "      <td>-1.91</td>\n",
       "      <td>3.11</td>\n",
       "      <td>9.40</td>\n",
       "      <td>9.40</td>\n",
       "      <td>3.11</td>\n",
       "      <td>-1.91</td>\n",
       "      <td>-0.04</td>\n",
       "      <td>0.04</td>\n",
       "      <td>-0.14</td>\n",
       "      <td>Fuck You!</td>\n",
       "    </tr>\n",
       "    <tr>\n",
       "      <th>2</th>\n",
       "      <td>2480</td>\n",
       "      <td>0</td>\n",
       "      <td>2390</td>\n",
       "      <td>2489</td>\n",
       "      <td>-2.12</td>\n",
       "      <td>3.32</td>\n",
       "      <td>9.54</td>\n",
       "      <td>9.54</td>\n",
       "      <td>3.32</td>\n",
       "      <td>-2.12</td>\n",
       "      <td>-0.07</td>\n",
       "      <td>-0.10</td>\n",
       "      <td>-0.03</td>\n",
       "      <td>Fuck You!</td>\n",
       "    </tr>\n",
       "    <tr>\n",
       "      <th>3</th>\n",
       "      <td>2457</td>\n",
       "      <td>0</td>\n",
       "      <td>2384</td>\n",
       "      <td>2486</td>\n",
       "      <td>-1.91</td>\n",
       "      <td>3.13</td>\n",
       "      <td>9.61</td>\n",
       "      <td>9.61</td>\n",
       "      <td>3.13</td>\n",
       "      <td>-1.91</td>\n",
       "      <td>-0.04</td>\n",
       "      <td>-0.03</td>\n",
       "      <td>-0.04</td>\n",
       "      <td>Fuck You!</td>\n",
       "    </tr>\n",
       "    <tr>\n",
       "      <th>4</th>\n",
       "      <td>2448</td>\n",
       "      <td>0</td>\n",
       "      <td>2374</td>\n",
       "      <td>2492</td>\n",
       "      <td>-1.83</td>\n",
       "      <td>3.04</td>\n",
       "      <td>9.66</td>\n",
       "      <td>9.66</td>\n",
       "      <td>3.04</td>\n",
       "      <td>-1.83</td>\n",
       "      <td>-0.05</td>\n",
       "      <td>-0.05</td>\n",
       "      <td>-0.03</td>\n",
       "      <td>Fuck You!</td>\n",
       "    </tr>\n",
       "  </tbody>\n",
       "</table>\n",
       "</div>"
      ],
      "text/plain": [
       "   thumb1  index1  middle1  pinky1  accelX1  accelY1  accelZ1  gForceX1  \\\n",
       "0    2490       0     2381    2501    -2.29     4.41     7.74      7.74   \n",
       "1    2459       0     2366    2479    -1.91     3.11     9.40      9.40   \n",
       "2    2480       0     2390    2489    -2.12     3.32     9.54      9.54   \n",
       "3    2457       0     2384    2486    -1.91     3.13     9.61      9.61   \n",
       "4    2448       0     2374    2492    -1.83     3.04     9.66      9.66   \n",
       "\n",
       "   gForceY1  gForceZ1  gyroX1  gyroY1  gyroZ1    gesture  \n",
       "0      4.41     -2.29    1.14   -0.45   -0.14  Fuck You!  \n",
       "1      3.11     -1.91   -0.04    0.04   -0.14  Fuck You!  \n",
       "2      3.32     -2.12   -0.07   -0.10   -0.03  Fuck You!  \n",
       "3      3.13     -1.91   -0.04   -0.03   -0.04  Fuck You!  \n",
       "4      3.04     -1.83   -0.05   -0.05   -0.03  Fuck You!  "
      ]
     },
     "execution_count": 10,
     "metadata": {},
     "output_type": "execute_result"
    }
   ],
   "source": [
    "df_final.head()"
   ]
  },
  {
   "cell_type": "code",
   "execution_count": 11,
   "id": "7343726b",
   "metadata": {
    "scrolled": true
   },
   "outputs": [
    {
     "data": {
      "text/html": [
       "<div>\n",
       "<style scoped>\n",
       "    .dataframe tbody tr th:only-of-type {\n",
       "        vertical-align: middle;\n",
       "    }\n",
       "\n",
       "    .dataframe tbody tr th {\n",
       "        vertical-align: top;\n",
       "    }\n",
       "\n",
       "    .dataframe thead th {\n",
       "        text-align: right;\n",
       "    }\n",
       "</style>\n",
       "<table border=\"1\" class=\"dataframe\">\n",
       "  <thead>\n",
       "    <tr style=\"text-align: right;\">\n",
       "      <th></th>\n",
       "      <th>thumb1</th>\n",
       "      <th>index1</th>\n",
       "      <th>middle1</th>\n",
       "      <th>pinky1</th>\n",
       "      <th>accelX1</th>\n",
       "      <th>accelY1</th>\n",
       "      <th>accelZ1</th>\n",
       "      <th>gForceX1</th>\n",
       "      <th>gForceY1</th>\n",
       "      <th>gForceZ1</th>\n",
       "      <th>gyroX1</th>\n",
       "      <th>gyroY1</th>\n",
       "      <th>gyroZ1</th>\n",
       "      <th>gesture</th>\n",
       "    </tr>\n",
       "  </thead>\n",
       "  <tbody>\n",
       "    <tr>\n",
       "      <th>0</th>\n",
       "      <td>2490</td>\n",
       "      <td>0</td>\n",
       "      <td>2381</td>\n",
       "      <td>2501</td>\n",
       "      <td>-2.29</td>\n",
       "      <td>4.41</td>\n",
       "      <td>7.74</td>\n",
       "      <td>7.74</td>\n",
       "      <td>4.41</td>\n",
       "      <td>-2.29</td>\n",
       "      <td>1.14</td>\n",
       "      <td>-0.45</td>\n",
       "      <td>-0.14</td>\n",
       "      <td>Fuck You!</td>\n",
       "    </tr>\n",
       "    <tr>\n",
       "      <th>1</th>\n",
       "      <td>2459</td>\n",
       "      <td>0</td>\n",
       "      <td>2366</td>\n",
       "      <td>2479</td>\n",
       "      <td>-1.91</td>\n",
       "      <td>3.11</td>\n",
       "      <td>9.40</td>\n",
       "      <td>9.40</td>\n",
       "      <td>3.11</td>\n",
       "      <td>-1.91</td>\n",
       "      <td>-0.04</td>\n",
       "      <td>0.04</td>\n",
       "      <td>-0.14</td>\n",
       "      <td>Fuck You!</td>\n",
       "    </tr>\n",
       "    <tr>\n",
       "      <th>2</th>\n",
       "      <td>2480</td>\n",
       "      <td>0</td>\n",
       "      <td>2390</td>\n",
       "      <td>2489</td>\n",
       "      <td>-2.12</td>\n",
       "      <td>3.32</td>\n",
       "      <td>9.54</td>\n",
       "      <td>9.54</td>\n",
       "      <td>3.32</td>\n",
       "      <td>-2.12</td>\n",
       "      <td>-0.07</td>\n",
       "      <td>-0.10</td>\n",
       "      <td>-0.03</td>\n",
       "      <td>Fuck You!</td>\n",
       "    </tr>\n",
       "    <tr>\n",
       "      <th>3</th>\n",
       "      <td>2457</td>\n",
       "      <td>0</td>\n",
       "      <td>2384</td>\n",
       "      <td>2486</td>\n",
       "      <td>-1.91</td>\n",
       "      <td>3.13</td>\n",
       "      <td>9.61</td>\n",
       "      <td>9.61</td>\n",
       "      <td>3.13</td>\n",
       "      <td>-1.91</td>\n",
       "      <td>-0.04</td>\n",
       "      <td>-0.03</td>\n",
       "      <td>-0.04</td>\n",
       "      <td>Fuck You!</td>\n",
       "    </tr>\n",
       "    <tr>\n",
       "      <th>4</th>\n",
       "      <td>2448</td>\n",
       "      <td>0</td>\n",
       "      <td>2374</td>\n",
       "      <td>2492</td>\n",
       "      <td>-1.83</td>\n",
       "      <td>3.04</td>\n",
       "      <td>9.66</td>\n",
       "      <td>9.66</td>\n",
       "      <td>3.04</td>\n",
       "      <td>-1.83</td>\n",
       "      <td>-0.05</td>\n",
       "      <td>-0.05</td>\n",
       "      <td>-0.03</td>\n",
       "      <td>Fuck You!</td>\n",
       "    </tr>\n",
       "    <tr>\n",
       "      <th>...</th>\n",
       "      <td>...</td>\n",
       "      <td>...</td>\n",
       "      <td>...</td>\n",
       "      <td>...</td>\n",
       "      <td>...</td>\n",
       "      <td>...</td>\n",
       "      <td>...</td>\n",
       "      <td>...</td>\n",
       "      <td>...</td>\n",
       "      <td>...</td>\n",
       "      <td>...</td>\n",
       "      <td>...</td>\n",
       "      <td>...</td>\n",
       "      <td>...</td>\n",
       "    </tr>\n",
       "    <tr>\n",
       "      <th>2068</th>\n",
       "      <td>2465</td>\n",
       "      <td>2004</td>\n",
       "      <td>2352</td>\n",
       "      <td>2411</td>\n",
       "      <td>0.89</td>\n",
       "      <td>9.96</td>\n",
       "      <td>-0.04</td>\n",
       "      <td>-0.04</td>\n",
       "      <td>9.96</td>\n",
       "      <td>0.89</td>\n",
       "      <td>0.33</td>\n",
       "      <td>0.34</td>\n",
       "      <td>-0.07</td>\n",
       "      <td>OK!</td>\n",
       "    </tr>\n",
       "    <tr>\n",
       "      <th>2069</th>\n",
       "      <td>2459</td>\n",
       "      <td>1958</td>\n",
       "      <td>2354</td>\n",
       "      <td>2447</td>\n",
       "      <td>2.01</td>\n",
       "      <td>9.46</td>\n",
       "      <td>-1.04</td>\n",
       "      <td>-1.04</td>\n",
       "      <td>9.46</td>\n",
       "      <td>2.01</td>\n",
       "      <td>-0.05</td>\n",
       "      <td>0.18</td>\n",
       "      <td>-0.11</td>\n",
       "      <td>OK!</td>\n",
       "    </tr>\n",
       "    <tr>\n",
       "      <th>2070</th>\n",
       "      <td>2464</td>\n",
       "      <td>2025</td>\n",
       "      <td>2325</td>\n",
       "      <td>2444</td>\n",
       "      <td>1.61</td>\n",
       "      <td>9.56</td>\n",
       "      <td>-1.37</td>\n",
       "      <td>-1.37</td>\n",
       "      <td>9.56</td>\n",
       "      <td>1.61</td>\n",
       "      <td>-0.08</td>\n",
       "      <td>-0.06</td>\n",
       "      <td>-0.04</td>\n",
       "      <td>OK!</td>\n",
       "    </tr>\n",
       "    <tr>\n",
       "      <th>2071</th>\n",
       "      <td>2459</td>\n",
       "      <td>1968</td>\n",
       "      <td>2354</td>\n",
       "      <td>2460</td>\n",
       "      <td>1.65</td>\n",
       "      <td>9.59</td>\n",
       "      <td>-1.36</td>\n",
       "      <td>-1.36</td>\n",
       "      <td>9.59</td>\n",
       "      <td>1.65</td>\n",
       "      <td>-0.04</td>\n",
       "      <td>-0.06</td>\n",
       "      <td>-0.03</td>\n",
       "      <td>OK!</td>\n",
       "    </tr>\n",
       "    <tr>\n",
       "      <th>2072</th>\n",
       "      <td>2466</td>\n",
       "      <td>2013</td>\n",
       "      <td>2353</td>\n",
       "      <td>2450</td>\n",
       "      <td>1.58</td>\n",
       "      <td>9.55</td>\n",
       "      <td>-1.00</td>\n",
       "      <td>-1.00</td>\n",
       "      <td>9.55</td>\n",
       "      <td>1.58</td>\n",
       "      <td>-0.04</td>\n",
       "      <td>-0.04</td>\n",
       "      <td>-0.02</td>\n",
       "      <td>OK!</td>\n",
       "    </tr>\n",
       "  </tbody>\n",
       "</table>\n",
       "<p>2073 rows × 14 columns</p>\n",
       "</div>"
      ],
      "text/plain": [
       "      thumb1  index1  middle1  pinky1  accelX1  accelY1  accelZ1  gForceX1  \\\n",
       "0       2490       0     2381    2501    -2.29     4.41     7.74      7.74   \n",
       "1       2459       0     2366    2479    -1.91     3.11     9.40      9.40   \n",
       "2       2480       0     2390    2489    -2.12     3.32     9.54      9.54   \n",
       "3       2457       0     2384    2486    -1.91     3.13     9.61      9.61   \n",
       "4       2448       0     2374    2492    -1.83     3.04     9.66      9.66   \n",
       "...      ...     ...      ...     ...      ...      ...      ...       ...   \n",
       "2068    2465    2004     2352    2411     0.89     9.96    -0.04     -0.04   \n",
       "2069    2459    1958     2354    2447     2.01     9.46    -1.04     -1.04   \n",
       "2070    2464    2025     2325    2444     1.61     9.56    -1.37     -1.37   \n",
       "2071    2459    1968     2354    2460     1.65     9.59    -1.36     -1.36   \n",
       "2072    2466    2013     2353    2450     1.58     9.55    -1.00     -1.00   \n",
       "\n",
       "      gForceY1  gForceZ1  gyroX1  gyroY1  gyroZ1    gesture  \n",
       "0         4.41     -2.29    1.14   -0.45   -0.14  Fuck You!  \n",
       "1         3.11     -1.91   -0.04    0.04   -0.14  Fuck You!  \n",
       "2         3.32     -2.12   -0.07   -0.10   -0.03  Fuck You!  \n",
       "3         3.13     -1.91   -0.04   -0.03   -0.04  Fuck You!  \n",
       "4         3.04     -1.83   -0.05   -0.05   -0.03  Fuck You!  \n",
       "...        ...       ...     ...     ...     ...        ...  \n",
       "2068      9.96      0.89    0.33    0.34   -0.07        OK!  \n",
       "2069      9.46      2.01   -0.05    0.18   -0.11        OK!  \n",
       "2070      9.56      1.61   -0.08   -0.06   -0.04        OK!  \n",
       "2071      9.59      1.65   -0.04   -0.06   -0.03        OK!  \n",
       "2072      9.55      1.58   -0.04   -0.04   -0.02        OK!  \n",
       "\n",
       "[2073 rows x 14 columns]"
      ]
     },
     "execution_count": 11,
     "metadata": {},
     "output_type": "execute_result"
    }
   ],
   "source": [
    "df_final.reset_index(drop=True)"
   ]
  },
  {
   "cell_type": "code",
   "execution_count": 29,
   "id": "ffba85ea",
   "metadata": {
    "scrolled": true
   },
   "outputs": [
    {
     "name": "stderr",
     "output_type": "stream",
     "text": [
      "C:\\Users\\DoBBy\\AppData\\Local\\Temp\\ipykernel_39416\\4029212707.py:1: FutureWarning: The default value of numeric_only in DataFrame.corr is deprecated. In a future version, it will default to False. Select only valid columns or specify the value of numeric_only to silence this warning.\n",
      "  sns.heatmap(df_final.corr())\n"
     ]
    },
    {
     "data": {
      "text/plain": [
       "<Axes: >"
      ]
     },
     "execution_count": 29,
     "metadata": {},
     "output_type": "execute_result"
    },
    {
     "data": {
      "image/png": "[encoded data removed]",
      "text/plain": [
       "<Figure size 640x480 with 2 Axes>"
      ]
     },
     "metadata": {},
     "output_type": "display_data"
    }
   ],
   "source": [
    "sns.heatmap(df_final.corr())"
   ]
  },
  {
   "cell_type": "code",
   "execution_count": 30,
   "id": "759acf6f",
   "metadata": {},
   "outputs": [
    {
     "name": "stderr",
     "output_type": "stream",
     "text": [
      "C:\\Users\\DoBBy\\AppData\\Local\\Temp\\ipykernel_39416\\2331782072.py:1: FutureWarning: The default value of numeric_only in DataFrame.corr is deprecated. In a future version, it will default to False. Select only valid columns or specify the value of numeric_only to silence this warning.\n",
      "  sns.barplot(df_final.corr())\n"
     ]
    },
    {
     "data": {
      "text/plain": [
       "<Axes: >"
      ]
     },
     "execution_count": 30,
     "metadata": {},
     "output_type": "execute_result"
    },
    {
     "data": {
      "image/png": "[encoded data removed]",
      "text/plain": [
       "<Figure size 640x480 with 1 Axes>"
      ]
     },
     "metadata": {},
     "output_type": "display_data"
    }
   ],
   "source": [
    "sns.barplot(df_final.corr())"
   ]
  },
  {
   "attachments": {},
   "cell_type": "markdown",
   "id": "d08a23b6",
   "metadata": {},
   "source": [
    "Feature Extraction"
   ]
  },
  {
   "cell_type": "code",
   "execution_count": 31,
   "id": "0e44926f",
   "metadata": {},
   "outputs": [
    {
     "data": {
      "text/html": [
       "<div>\n",
       "<style scoped>\n",
       "    .dataframe tbody tr th:only-of-type {\n",
       "        vertical-align: middle;\n",
       "    }\n",
       "\n",
       "    .dataframe tbody tr th {\n",
       "        vertical-align: top;\n",
       "    }\n",
       "\n",
       "    .dataframe thead th {\n",
       "        text-align: right;\n",
       "    }\n",
       "</style>\n",
       "<table border=\"1\" class=\"dataframe\">\n",
       "  <thead>\n",
       "    <tr style=\"text-align: right;\">\n",
       "      <th></th>\n",
       "      <th>thumb1</th>\n",
       "      <th>index1</th>\n",
       "      <th>middle1</th>\n",
       "      <th>pinky1</th>\n",
       "      <th>accelX1</th>\n",
       "      <th>accelY1</th>\n",
       "      <th>accelZ1</th>\n",
       "      <th>gForceX1</th>\n",
       "      <th>gForceY1</th>\n",
       "      <th>gForceZ1</th>\n",
       "      <th>gyroX1</th>\n",
       "      <th>gyroY1</th>\n",
       "      <th>gyroZ1</th>\n",
       "    </tr>\n",
       "  </thead>\n",
       "  <tbody>\n",
       "    <tr>\n",
       "      <th>0</th>\n",
       "      <td>2490</td>\n",
       "      <td>0</td>\n",
       "      <td>2381</td>\n",
       "      <td>2501</td>\n",
       "      <td>-2.29</td>\n",
       "      <td>4.41</td>\n",
       "      <td>7.74</td>\n",
       "      <td>7.74</td>\n",
       "      <td>4.41</td>\n",
       "      <td>-2.29</td>\n",
       "      <td>1.14</td>\n",
       "      <td>-0.45</td>\n",
       "      <td>-0.14</td>\n",
       "    </tr>\n",
       "    <tr>\n",
       "      <th>1</th>\n",
       "      <td>2459</td>\n",
       "      <td>0</td>\n",
       "      <td>2366</td>\n",
       "      <td>2479</td>\n",
       "      <td>-1.91</td>\n",
       "      <td>3.11</td>\n",
       "      <td>9.40</td>\n",
       "      <td>9.40</td>\n",
       "      <td>3.11</td>\n",
       "      <td>-1.91</td>\n",
       "      <td>-0.04</td>\n",
       "      <td>0.04</td>\n",
       "      <td>-0.14</td>\n",
       "    </tr>\n",
       "    <tr>\n",
       "      <th>2</th>\n",
       "      <td>2480</td>\n",
       "      <td>0</td>\n",
       "      <td>2390</td>\n",
       "      <td>2489</td>\n",
       "      <td>-2.12</td>\n",
       "      <td>3.32</td>\n",
       "      <td>9.54</td>\n",
       "      <td>9.54</td>\n",
       "      <td>3.32</td>\n",
       "      <td>-2.12</td>\n",
       "      <td>-0.07</td>\n",
       "      <td>-0.10</td>\n",
       "      <td>-0.03</td>\n",
       "    </tr>\n",
       "    <tr>\n",
       "      <th>3</th>\n",
       "      <td>2457</td>\n",
       "      <td>0</td>\n",
       "      <td>2384</td>\n",
       "      <td>2486</td>\n",
       "      <td>-1.91</td>\n",
       "      <td>3.13</td>\n",
       "      <td>9.61</td>\n",
       "      <td>9.61</td>\n",
       "      <td>3.13</td>\n",
       "      <td>-1.91</td>\n",
       "      <td>-0.04</td>\n",
       "      <td>-0.03</td>\n",
       "      <td>-0.04</td>\n",
       "    </tr>\n",
       "    <tr>\n",
       "      <th>4</th>\n",
       "      <td>2448</td>\n",
       "      <td>0</td>\n",
       "      <td>2374</td>\n",
       "      <td>2492</td>\n",
       "      <td>-1.83</td>\n",
       "      <td>3.04</td>\n",
       "      <td>9.66</td>\n",
       "      <td>9.66</td>\n",
       "      <td>3.04</td>\n",
       "      <td>-1.83</td>\n",
       "      <td>-0.05</td>\n",
       "      <td>-0.05</td>\n",
       "      <td>-0.03</td>\n",
       "    </tr>\n",
       "    <tr>\n",
       "      <th>...</th>\n",
       "      <td>...</td>\n",
       "      <td>...</td>\n",
       "      <td>...</td>\n",
       "      <td>...</td>\n",
       "      <td>...</td>\n",
       "      <td>...</td>\n",
       "      <td>...</td>\n",
       "      <td>...</td>\n",
       "      <td>...</td>\n",
       "      <td>...</td>\n",
       "      <td>...</td>\n",
       "      <td>...</td>\n",
       "      <td>...</td>\n",
       "    </tr>\n",
       "    <tr>\n",
       "      <th>455</th>\n",
       "      <td>2465</td>\n",
       "      <td>2004</td>\n",
       "      <td>2352</td>\n",
       "      <td>2411</td>\n",
       "      <td>0.89</td>\n",
       "      <td>9.96</td>\n",
       "      <td>-0.04</td>\n",
       "      <td>-0.04</td>\n",
       "      <td>9.96</td>\n",
       "      <td>0.89</td>\n",
       "      <td>0.33</td>\n",
       "      <td>0.34</td>\n",
       "      <td>-0.07</td>\n",
       "    </tr>\n",
       "    <tr>\n",
       "      <th>456</th>\n",
       "      <td>2459</td>\n",
       "      <td>1958</td>\n",
       "      <td>2354</td>\n",
       "      <td>2447</td>\n",
       "      <td>2.01</td>\n",
       "      <td>9.46</td>\n",
       "      <td>-1.04</td>\n",
       "      <td>-1.04</td>\n",
       "      <td>9.46</td>\n",
       "      <td>2.01</td>\n",
       "      <td>-0.05</td>\n",
       "      <td>0.18</td>\n",
       "      <td>-0.11</td>\n",
       "    </tr>\n",
       "    <tr>\n",
       "      <th>457</th>\n",
       "      <td>2464</td>\n",
       "      <td>2025</td>\n",
       "      <td>2325</td>\n",
       "      <td>2444</td>\n",
       "      <td>1.61</td>\n",
       "      <td>9.56</td>\n",
       "      <td>-1.37</td>\n",
       "      <td>-1.37</td>\n",
       "      <td>9.56</td>\n",
       "      <td>1.61</td>\n",
       "      <td>-0.08</td>\n",
       "      <td>-0.06</td>\n",
       "      <td>-0.04</td>\n",
       "    </tr>\n",
       "    <tr>\n",
       "      <th>458</th>\n",
       "      <td>2459</td>\n",
       "      <td>1968</td>\n",
       "      <td>2354</td>\n",
       "      <td>2460</td>\n",
       "      <td>1.65</td>\n",
       "      <td>9.59</td>\n",
       "      <td>-1.36</td>\n",
       "      <td>-1.36</td>\n",
       "      <td>9.59</td>\n",
       "      <td>1.65</td>\n",
       "      <td>-0.04</td>\n",
       "      <td>-0.06</td>\n",
       "      <td>-0.03</td>\n",
       "    </tr>\n",
       "    <tr>\n",
       "      <th>459</th>\n",
       "      <td>2466</td>\n",
       "      <td>2013</td>\n",
       "      <td>2353</td>\n",
       "      <td>2450</td>\n",
       "      <td>1.58</td>\n",
       "      <td>9.55</td>\n",
       "      <td>-1.00</td>\n",
       "      <td>-1.00</td>\n",
       "      <td>9.55</td>\n",
       "      <td>1.58</td>\n",
       "      <td>-0.04</td>\n",
       "      <td>-0.04</td>\n",
       "      <td>-0.02</td>\n",
       "    </tr>\n",
       "  </tbody>\n",
       "</table>\n",
       "<p>2073 rows × 13 columns</p>\n",
       "</div>"
      ],
      "text/plain": [
       "     thumb1  index1  middle1  pinky1  accelX1  accelY1  accelZ1  gForceX1  \\\n",
       "0      2490       0     2381    2501    -2.29     4.41     7.74      7.74   \n",
       "1      2459       0     2366    2479    -1.91     3.11     9.40      9.40   \n",
       "2      2480       0     2390    2489    -2.12     3.32     9.54      9.54   \n",
       "3      2457       0     2384    2486    -1.91     3.13     9.61      9.61   \n",
       "4      2448       0     2374    2492    -1.83     3.04     9.66      9.66   \n",
       "..      ...     ...      ...     ...      ...      ...      ...       ...   \n",
       "455    2465    2004     2352    2411     0.89     9.96    -0.04     -0.04   \n",
       "456    2459    1958     2354    2447     2.01     9.46    -1.04     -1.04   \n",
       "457    2464    2025     2325    2444     1.61     9.56    -1.37     -1.37   \n",
       "458    2459    1968     2354    2460     1.65     9.59    -1.36     -1.36   \n",
       "459    2466    2013     2353    2450     1.58     9.55    -1.00     -1.00   \n",
       "\n",
       "     gForceY1  gForceZ1  gyroX1  gyroY1  gyroZ1  \n",
       "0        4.41     -2.29    1.14   -0.45   -0.14  \n",
       "1        3.11     -1.91   -0.04    0.04   -0.14  \n",
       "2        3.32     -2.12   -0.07   -0.10   -0.03  \n",
       "3        3.13     -1.91   -0.04   -0.03   -0.04  \n",
       "4        3.04     -1.83   -0.05   -0.05   -0.03  \n",
       "..        ...       ...     ...     ...     ...  \n",
       "455      9.96      0.89    0.33    0.34   -0.07  \n",
       "456      9.46      2.01   -0.05    0.18   -0.11  \n",
       "457      9.56      1.61   -0.08   -0.06   -0.04  \n",
       "458      9.59      1.65   -0.04   -0.06   -0.03  \n",
       "459      9.55      1.58   -0.04   -0.04   -0.02  \n",
       "\n",
       "[2073 rows x 13 columns]"
      ]
     },
     "execution_count": 31,
     "metadata": {},
     "output_type": "execute_result"
    }
   ],
   "source": [
    "df_x = df_final.drop(['gesture'], axis =1)\n",
    "df_x"
   ]
  },
  {
   "cell_type": "code",
   "execution_count": 32,
   "id": "2d8704f8",
   "metadata": {},
   "outputs": [
    {
     "data": {
      "text/plain": [
       "0      Fuck You!\n",
       "1      Fuck You!\n",
       "2      Fuck You!\n",
       "3      Fuck You!\n",
       "4      Fuck You!\n",
       "         ...    \n",
       "455          OK!\n",
       "456          OK!\n",
       "457          OK!\n",
       "458          OK!\n",
       "459          OK!\n",
       "Name: gesture, Length: 2073, dtype: object"
      ]
     },
     "execution_count": 32,
     "metadata": {},
     "output_type": "execute_result"
    }
   ],
   "source": [
    "df_y = df_final['gesture']\n",
    "df_y"
   ]
  },
  {
   "cell_type": "markdown",
   "id": "bd5554d9",
   "metadata": {},
   "source": [
    "##Importing libraries to split, train and test data"
   ]
  },
  {
   "cell_type": "code",
   "execution_count": 33,
   "id": "90599223",
   "metadata": {},
   "outputs": [],
   "source": [
    "from sklearn.model_selection import train_test_split \n",
    "from sklearn.ensemble import RandomForestClassifier\n",
    "from sklearn.metrics import classification_report,confusion_matrix"
   ]
  },
  {
   "cell_type": "code",
   "execution_count": 34,
   "id": "0eccad85",
   "metadata": {},
   "outputs": [],
   "source": [
    "X_train, X_test, y_train, y_test = train_test_split(df_x, df_y, test_size=0.12)"
   ]
  },
  {
   "cell_type": "code",
   "execution_count": 35,
   "id": "968e7b89",
   "metadata": {},
   "outputs": [
    {
     "name": "stdout",
     "output_type": "stream",
     "text": [
      "Training data size : 1824 \n",
      "Testing data size : 249\n"
     ]
    }
   ],
   "source": [
    "print(\"Training data size : {} \\nTesting data size : {}\".format(len(X_train), len(X_test)))"
   ]
  },
  {
   "cell_type": "code",
   "execution_count": 36,
   "id": "da75da90",
   "metadata": {},
   "outputs": [
    {
     "name": "stdout",
     "output_type": "stream",
     "text": [
      "Train data shape : (1824, 13) \n",
      "Test Data shape : (249, 13) \n"
     ]
    }
   ],
   "source": [
    "print(\"Train data shape : {} \\nTest Data shape : {} \".format(X_train.shape, X_test.shape))"
   ]
  },
  {
   "cell_type": "code",
   "execution_count": 73,
   "id": "a5d54f2e",
   "metadata": {},
   "outputs": [
    {
     "data": {
      "text/html": [
       "<style>#sk-container-id-8 {color: black;background-color: white;}#sk-container-id-8 pre{padding: 0;}#sk-container-id-8 div.sk-toggleable {background-color: white;}#sk-container-id-8 label.sk-toggleable__label {cursor: pointer;display: block;width: 100%;margin-bottom: 0;padding: 0.3em;box-sizing: border-box;text-align: center;}#sk-container-id-8 label.sk-toggleable__label-arrow:before {content: \"▸\";float: left;margin-right: 0.25em;color: #696969;}#sk-container-id-8 label.sk-toggleable__label-arrow:hover:before {color: black;}#sk-container-id-8 div.sk-estimator:hover label.sk-toggleable__label-arrow:before {color: black;}#sk-container-id-8 div.sk-toggleable__content {max-height: 0;max-width: 0;overflow: hidden;text-align: left;background-color: #f0f8ff;}#sk-container-id-8 div.sk-toggleable__content pre {margin: 0.2em;color: black;border-radius: 0.25em;background-color: #f0f8ff;}#sk-container-id-8 input.sk-toggleable__control:checked~div.sk-toggleable__content {max-height: 200px;max-width: 100%;overflow: auto;}#sk-container-id-8 input.sk-toggleable__control:checked~label.sk-toggleable__label-arrow:before {content: \"▾\";}#sk-container-id-8 div.sk-estimator input.sk-toggleable__control:checked~label.sk-toggleable__label {background-color: #d4ebff;}#sk-container-id-8 div.sk-label input.sk-toggleable__control:checked~label.sk-toggleable__label {background-color: #d4ebff;}#sk-container-id-8 input.sk-hidden--visually {border: 0;clip: rect(1px 1px 1px 1px);clip: rect(1px, 1px, 1px, 1px);height: 1px;margin: -1px;overflow: hidden;padding: 0;position: absolute;width: 1px;}#sk-container-id-8 div.sk-estimator {font-family: monospace;background-color: #f0f8ff;border: 1px dotted black;border-radius: 0.25em;box-sizing: border-box;margin-bottom: 0.5em;}#sk-container-id-8 div.sk-estimator:hover {background-color: #d4ebff;}#sk-container-id-8 div.sk-parallel-item::after {content: \"\";width: 100%;border-bottom: 1px solid gray;flex-grow: 1;}#sk-container-id-8 div.sk-label:hover label.sk-toggleable__label {background-color: #d4ebff;}#sk-container-id-8 div.sk-serial::before {content: \"\";position: absolute;border-left: 1px solid gray;box-sizing: border-box;top: 0;bottom: 0;left: 50%;z-index: 0;}#sk-container-id-8 div.sk-serial {display: flex;flex-direction: column;align-items: center;background-color: white;padding-right: 0.2em;padding-left: 0.2em;position: relative;}#sk-container-id-8 div.sk-item {position: relative;z-index: 1;}#sk-container-id-8 div.sk-parallel {display: flex;align-items: stretch;justify-content: center;background-color: white;position: relative;}#sk-container-id-8 div.sk-item::before, #sk-container-id-8 div.sk-parallel-item::before {content: \"\";position: absolute;border-left: 1px solid gray;box-sizing: border-box;top: 0;bottom: 0;left: 50%;z-index: -1;}#sk-container-id-8 div.sk-parallel-item {display: flex;flex-direction: column;z-index: 1;position: relative;background-color: white;}#sk-container-id-8 div.sk-parallel-item:first-child::after {align-self: flex-end;width: 50%;}#sk-container-id-8 div.sk-parallel-item:last-child::after {align-self: flex-start;width: 50%;}#sk-container-id-8 div.sk-parallel-item:only-child::after {width: 0;}#sk-container-id-8 div.sk-dashed-wrapped {border: 1px dashed gray;margin: 0 0.4em 0.5em 0.4em;box-sizing: border-box;padding-bottom: 0.4em;background-color: white;}#sk-container-id-8 div.sk-label label {font-family: monospace;font-weight: bold;display: inline-block;line-height: 1.2em;}#sk-container-id-8 div.sk-label-container {text-align: center;}#sk-container-id-8 div.sk-container {/* jupyter's `normalize.less` sets `[hidden] { display: none; }` but bootstrap.min.css set `[hidden] { display: none !important; }` so we also need the `!important` here to be able to override the default hidden behavior on the sphinx rendered scikit-learn.org. See: https://github.com/scikit-learn/scikit-learn/issues/21755 */display: inline-block !important;position: relative;}#sk-container-id-8 div.sk-text-repr-fallback {display: none;}</style><div id=\"sk-container-id-8\" class=\"sk-top-container\"><div class=\"sk-text-repr-fallback\"><pre>RandomForestClassifier(n_estimators=50, random_state=42)</pre><b>In a Jupyter environment, please rerun this cell to show the HTML representation or trust the notebook. <br />On GitHub, the HTML representation is unable to render, please try loading this page with nbviewer.org.</b></div><div class=\"sk-container\" hidden><div class=\"sk-item\"><div class=\"sk-estimator sk-toggleable\"><input class=\"sk-toggleable__control sk-hidden--visually\" id=\"sk-estimator-id-8\" type=\"checkbox\" checked><label for=\"sk-estimator-id-8\" class=\"sk-toggleable__label sk-toggleable__label-arrow\">RandomForestClassifier</label><div class=\"sk-toggleable__content\"><pre>RandomForestClassifier(n_estimators=50, random_state=42)</pre></div></div></div></div></div>"
      ],
      "text/plain": [
       "RandomForestClassifier(n_estimators=50, random_state=42)"
      ]
     },
     "execution_count": 73,
     "metadata": {},
     "output_type": "execute_result"
    }
   ],
   "source": [
    "rf = RandomForestClassifier(n_estimators=40, random_state=42)\n",
    "rf.fit(X_train, y_train)"
   ]
  },
  {
   "attachments": {},
   "cell_type": "markdown",
   "id": "394a9de5",
   "metadata": {},
   "source": [
    "Validate trained model scores"
   ]
  },
  {
   "cell_type": "code",
   "execution_count": 74,
   "id": "21e31d46",
   "metadata": {},
   "outputs": [
    {
     "data": {
      "text/plain": [
       "0.9994517543859649"
      ]
     },
     "execution_count": 74,
     "metadata": {},
     "output_type": "execute_result"
    }
   ],
   "source": [
    "rf.score(X_train, y_train)"
   ]
  },
  {
   "cell_type": "code",
   "execution_count": 75,
   "id": "6cf0e081",
   "metadata": {},
   "outputs": [
    {
     "data": {
      "text/plain": [
       "0.9156626506024096"
      ]
     },
     "execution_count": 75,
     "metadata": {},
     "output_type": "execute_result"
    }
   ],
   "source": [
    "rf.score(X_test, y_test)"
   ]
  },
  {
   "cell_type": "code",
   "execution_count": 76,
   "id": "fd557d2a",
   "metadata": {},
   "outputs": [],
   "source": [
    "y_test_predicted = rf.predict(X_test)"
   ]
  },
  {
   "cell_type": "code",
   "execution_count": 77,
   "id": "d6244d8d",
   "metadata": {},
   "outputs": [
    {
     "data": {
      "text/plain": [
       "array(['OK!', 'OK!', 'OK!', 'Steady...', 'Steady...', 'Fuck You!',\n",
       "       'Nice!', 'Nice!', 'Fuck You!', 'Nice!', 'Nice!', 'Steady...',\n",
       "       'Nice!', 'Fuck You!', 'Nice!', 'OK!', 'Steady...', 'Nice!',\n",
       "       'Steady...', 'Steady...', 'Steady...', 'Steady...', 'Fuck You!',\n",
       "       'Nice!', 'Steady...', 'Nice!', 'OK!', 'Steady...', 'Fuck You!',\n",
       "       'Nice!', 'OK!', 'Fuck You!', 'OK!', 'Steady...', 'OK!', 'Nice!',\n",
       "       'Steady...', 'Nice!', 'OK!', 'Fuck You!', 'Fuck You!', 'Fuck You!',\n",
       "       'Fuck You!', 'Fuck You!', 'Nice!', 'Nice!', 'OK!', 'Steady...',\n",
       "       'Nice!', 'OK!', 'Nice!', 'Steady...', 'Fuck You!', 'Steady...',\n",
       "       'OK!', 'Nice!', 'Nice!', 'Fuck You!', 'Fuck You!', 'OK!', 'Nice!',\n",
       "       'Steady...', 'Steady...', 'OK!', 'Nice!', 'Nice!', 'Fuck You!',\n",
       "       'Fuck You!', 'Nice!', 'Steady...', 'Steady...', 'Nice!', 'OK!',\n",
       "       'Nice!', 'Nice!', 'Steady...', 'OK!', 'Nice!', 'Steady...',\n",
       "       'Fuck You!', 'Steady...', 'Fuck You!', 'Steady...', 'Fuck You!',\n",
       "       'OK!', 'Fuck You!', 'Fuck You!', 'Nice!', 'Fuck You!', 'Fuck You!',\n",
       "       'Fuck You!', 'Nice!', 'Steady...', 'Nice!', 'Fuck You!',\n",
       "       'Fuck You!', 'Fuck You!', 'Nice!', 'Steady...', 'OK!', 'Nice!',\n",
       "       'Nice!', 'Fuck You!', 'Nice!', 'Steady...', 'OK!', 'Fuck You!',\n",
       "       'Nice!', 'OK!', 'Steady...', 'Steady...', 'Fuck You!', 'Nice!',\n",
       "       'Fuck You!', 'Fuck You!', 'Steady...', 'OK!', 'Fuck You!',\n",
       "       'Fuck You!', 'Fuck You!', 'Fuck You!', 'OK!', 'OK!', 'OK!',\n",
       "       'Nice!', 'Nice!', 'Nice!', 'OK!', 'Nice!', 'Fuck You!', 'OK!',\n",
       "       'Nice!', 'Fuck You!', 'Steady...', 'Steady...', 'Steady...',\n",
       "       'Fuck You!', 'Fuck You!', 'Nice!', 'Steady...', 'Nice!', 'OK!',\n",
       "       'Steady...', 'Fuck You!', 'Fuck You!', 'Nice!', 'OK!', 'OK!',\n",
       "       'OK!', 'Fuck You!', 'Steady...', 'Steady...', 'Fuck You!',\n",
       "       'Steady...', 'Fuck You!', 'Nice!', 'Fuck You!', 'Fuck You!',\n",
       "       'Nice!', 'Steady...', 'Nice!', 'Fuck You!', 'Steady...',\n",
       "       'Steady...', 'OK!', 'Steady...', 'Nice!', 'Fuck You!', 'Nice!',\n",
       "       'Nice!', 'Fuck You!', 'OK!', 'Fuck You!', 'Nice!', 'Nice!', 'OK!',\n",
       "       'Fuck You!', 'Steady...', 'Fuck You!', 'Fuck You!', 'Nice!',\n",
       "       'Steady...', 'Steady...', 'OK!', 'Nice!', 'Fuck You!', 'Steady...',\n",
       "       'OK!', 'OK!', 'Nice!', 'Fuck You!', 'OK!', 'Nice!', 'Fuck You!',\n",
       "       'Nice!', 'OK!', 'OK!', 'Nice!', 'Fuck You!', 'Steady...',\n",
       "       'Fuck You!', 'Steady...', 'OK!', 'OK!', 'Fuck You!', 'Fuck You!',\n",
       "       'Nice!', 'Steady...', 'Nice!', 'Fuck You!', 'Nice!', 'Steady...',\n",
       "       'Nice!', 'OK!', 'Fuck You!', 'Nice!', 'Fuck You!', 'Nice!',\n",
       "       'Fuck You!', 'Nice!', 'Nice!', 'Fuck You!', 'OK!', 'OK!', 'Nice!',\n",
       "       'Nice!', 'OK!', 'Fuck You!', 'Nice!', 'Nice!', 'Fuck You!',\n",
       "       'Steady...', 'OK!', 'Fuck You!', 'Steady...', 'OK!', 'Nice!',\n",
       "       'Nice!', 'Fuck You!', 'OK!', 'Nice!', 'Fuck You!', 'Fuck You!',\n",
       "       'Fuck You!', 'Fuck You!', 'OK!', 'Steady...', 'Steady...', 'OK!'],\n",
       "      dtype=object)"
      ]
     },
     "execution_count": 77,
     "metadata": {},
     "output_type": "execute_result"
    }
   ],
   "source": [
    "y_test_predicted"
   ]
  },
  {
   "cell_type": "code",
   "execution_count": 78,
   "id": "10909459",
   "metadata": {},
   "outputs": [
    {
     "name": "stdout",
     "output_type": "stream",
     "text": [
      "              precision    recall  f1-score   support\n",
      "\n",
      "   Fuck You!       0.82      0.88      0.85        69\n",
      "       Nice!       0.89      0.84      0.86        76\n",
      "         OK!       1.00      0.98      0.99        51\n",
      "   Steady...       1.00      1.00      1.00        53\n",
      "\n",
      "    accuracy                           0.92       249\n",
      "   macro avg       0.93      0.93      0.93       249\n",
      "weighted avg       0.92      0.92      0.92       249\n",
      "\n"
     ]
    }
   ],
   "source": [
    "print(classification_report(y_test,y_test_predicted))"
   ]
  },
  {
   "cell_type": "code",
   "execution_count": 79,
   "id": "e7da33c2",
   "metadata": {},
   "outputs": [
    {
     "name": "stdout",
     "output_type": "stream",
     "text": [
      "[[61  8  0  0]\n",
      " [12 64  0  0]\n",
      " [ 1  0 50  0]\n",
      " [ 0  0  0 53]]\n"
     ]
    }
   ],
   "source": [
    "print(confusion_matrix(y_test,y_test_predicted))"
   ]
  },
  {
   "cell_type": "markdown",
   "id": "bc3e8e99",
   "metadata": {},
   "source": [
    "##Saving model for reuse in different applications"
   ]
  },
  {
   "cell_type": "code",
   "execution_count": 1,
   "id": "5411f530",
   "metadata": {},
   "outputs": [],
   "source": [
    "from joblib import dump, load"
   ]
  },
  {
   "cell_type": "code",
   "execution_count": 2,
   "id": "a5a8d248",
   "metadata": {},
   "outputs": [
    {
     "ename": "NameError",
     "evalue": "name 'rf' is not defined",
     "output_type": "error",
     "traceback": [
      "\u001b[1;31m---------------------------------------------------------------------------\u001b[0m",
      "\u001b[1;31mNameError\u001b[0m                                 Traceback (most recent call last)",
      "Cell \u001b[1;32mIn[2], line 1\u001b[0m\n\u001b[1;32m----> 1\u001b[0m dump(\u001b[43mrf\u001b[49m, \u001b[38;5;124m'\u001b[39m\u001b[38;5;124mrandom_forest.joblib\u001b[39m\u001b[38;5;124m'\u001b[39m)\n",
      "\u001b[1;31mNameError\u001b[0m: name 'rf' is not defined"
     ]
    }
   ],
   "source": [
    "dump(rf, 'random_forest.joblib')"
   ]
  },
  {
   "cell_type": "code",
   "execution_count": 3,
   "id": "7f6a1ba9",
   "metadata": {},
   "outputs": [],
   "source": [
    "rf = load('random_forest.joblib')"
   ]
  },
  {
   "cell_type": "code",
   "execution_count": 18,
   "id": "90601850",
   "metadata": {},
   "outputs": [],
   "source": [
    "val = [0,0,564,2453,10.11,0.71,1.33,1.33,0.71,10.11,-0.04,-0.04,-0.02]\n",
    "test_data = np.array(val)\n",
    "test_data = test_data.reshape(1,-1)"
   ]
  },
  {
   "cell_type": "code",
   "execution_count": 19,
   "id": "3b9a5574",
   "metadata": {},
   "outputs": [
    {
     "name": "stdout",
     "output_type": "stream",
     "text": [
      "['Fuck You!']\n"
     ]
    },
    {
     "name": "stderr",
     "output_type": "stream",
     "text": [
      "C:\\Users\\DoBBy\\anaconda3\\lib\\site-packages\\sklearn\\base.py:439: UserWarning: X does not have valid feature names, but RandomForestClassifier was fitted with feature names\n",
      "  warnings.warn(\n"
     ]
    }
   ],
   "source": [
    "ans = rf.predict(test_data)\n",
    "print(ans)"
   ]
  },
  {
   "cell_type": "code",
   "execution_count": null,
   "id": "8853d3f8",
   "metadata": {},
   "outputs": [],
   "source": []
  }
 ],
 "metadata": {
  "kernelspec": {
   "display_name": "Python 3 (ipykernel)",
   "language": "python",
   "name": "python3"
  },
  "language_info": {
   "codemirror_mode": {
    "name": "ipython",
    "version": 3
   },
   "file_extension": ".py",
   "mimetype": "text/x-python",
   "name": "python",
   "nbconvert_exporter": "python",
   "pygments_lexer": "ipython3",
   "version": "3.10.9"
  }
 },
 "nbformat": 4,
 "nbformat_minor": 5
}
